{
  "nbformat": 4,
  "nbformat_minor": 0,
  "metadata": {
    "colab": {
      "name": "dates_and_times_in_python.ipynb",
      "provenance": [],
      "toc_visible": true,
      "mount_file_id": "1pUDRQgctpa_XfB2WAy3e6ifEK_5lLdOx",
      "authorship_tag": "ABX9TyM7PMkaBsaPRI/PUx/ewo9d",
      "include_colab_link": true
    },
    "kernelspec": {
      "name": "python3",
      "display_name": "Python 3"
    }
  },
  "cells": [
    {
      "cell_type": "markdown",
      "metadata": {
        "id": "view-in-github",
        "colab_type": "text"
      },
      "source": [
        "<a href=\"https://colab.research.google.com/github/blacng/dataquest-projects/blob/master/dates_and_times_in_python.ipynb\" target=\"_parent\"><img src=\"https://colab.research.google.com/assets/colab-badge.svg\" alt=\"Open In Colab\"/></a>"
      ]
    },
    {
      "cell_type": "markdown",
      "metadata": {
        "id": "pj1WF2AvrU3L",
        "colab_type": "text"
      },
      "source": [
        "# Working with Dates and Times in Python"
      ]
    },
    {
      "cell_type": "code",
      "metadata": {
        "id": "ovIMkAC-rvp6",
        "colab_type": "code",
        "outputId": "d4b997d1-84c2-4988-ba0a-cf75a8e9ab56",
        "colab": {
          "base_uri": "https://localhost:8080/",
          "height": 419
        }
      },
      "source": [
        "import pandas as pd\n",
        "wh_visit_2015 = pd.read_csv(\"/content/drive/My Drive/data/potus_visitors_2015.csv\")\n",
        "wh_visit_2015.head(100)"
      ],
      "execution_count": 0,
      "outputs": [
        {
          "output_type": "execute_result",
          "data": {
            "text/html": [
              "<div>\n",
              "<style scoped>\n",
              "    .dataframe tbody tr th:only-of-type {\n",
              "        vertical-align: middle;\n",
              "    }\n",
              "\n",
              "    .dataframe tbody tr th {\n",
              "        vertical-align: top;\n",
              "    }\n",
              "\n",
              "    .dataframe thead th {\n",
              "        text-align: right;\n",
              "    }\n",
              "</style>\n",
              "<table border=\"1\" class=\"dataframe\">\n",
              "  <thead>\n",
              "    <tr style=\"text-align: right;\">\n",
              "      <th></th>\n",
              "      <th>name</th>\n",
              "      <th>appt_made_date</th>\n",
              "      <th>appt_start_date</th>\n",
              "      <th>appt_end_date</th>\n",
              "      <th>visitee_namelast</th>\n",
              "      <th>visitee_namefirst</th>\n",
              "      <th>meeting_room</th>\n",
              "      <th>description</th>\n",
              "    </tr>\n",
              "  </thead>\n",
              "  <tbody>\n",
              "    <tr>\n",
              "      <th>0</th>\n",
              "      <td>Joshua T. Blanton</td>\n",
              "      <td>2014-12-18T00:00:00</td>\n",
              "      <td>1/6/15 9:30</td>\n",
              "      <td>1/6/15 23:59</td>\n",
              "      <td>NaN</td>\n",
              "      <td>potus</td>\n",
              "      <td>west wing</td>\n",
              "      <td>JointService Military Honor Guard</td>\n",
              "    </tr>\n",
              "    <tr>\n",
              "      <th>1</th>\n",
              "      <td>Jack T. Gutting</td>\n",
              "      <td>2014-12-18T00:00:00</td>\n",
              "      <td>1/6/15 9:30</td>\n",
              "      <td>1/6/15 23:59</td>\n",
              "      <td>NaN</td>\n",
              "      <td>potus</td>\n",
              "      <td>west wing</td>\n",
              "      <td>JointService Military Honor Guard</td>\n",
              "    </tr>\n",
              "    <tr>\n",
              "      <th>2</th>\n",
              "      <td>Bradley T. Guiles</td>\n",
              "      <td>2014-12-18T00:00:00</td>\n",
              "      <td>1/6/15 9:30</td>\n",
              "      <td>1/6/15 23:59</td>\n",
              "      <td>NaN</td>\n",
              "      <td>potus</td>\n",
              "      <td>west wing</td>\n",
              "      <td>JointService Military Honor Guard</td>\n",
              "    </tr>\n",
              "    <tr>\n",
              "      <th>3</th>\n",
              "      <td>Loryn F. Grieb</td>\n",
              "      <td>2014-12-18T00:00:00</td>\n",
              "      <td>1/6/15 9:30</td>\n",
              "      <td>1/6/15 23:59</td>\n",
              "      <td>NaN</td>\n",
              "      <td>potus</td>\n",
              "      <td>west wing</td>\n",
              "      <td>JointService Military Honor Guard</td>\n",
              "    </tr>\n",
              "    <tr>\n",
              "      <th>4</th>\n",
              "      <td>Travis D. Gordon</td>\n",
              "      <td>2014-12-18T00:00:00</td>\n",
              "      <td>1/6/15 9:30</td>\n",
              "      <td>1/6/15 23:59</td>\n",
              "      <td>NaN</td>\n",
              "      <td>potus</td>\n",
              "      <td>west wing</td>\n",
              "      <td>JointService Military Honor Guard</td>\n",
              "    </tr>\n",
              "    <tr>\n",
              "      <th>...</th>\n",
              "      <td>...</td>\n",
              "      <td>...</td>\n",
              "      <td>...</td>\n",
              "      <td>...</td>\n",
              "      <td>...</td>\n",
              "      <td>...</td>\n",
              "      <td>...</td>\n",
              "      <td>...</td>\n",
              "    </tr>\n",
              "    <tr>\n",
              "      <th>95</th>\n",
              "      <td>David M. Lundquist</td>\n",
              "      <td>2015-01-06T00:00:00</td>\n",
              "      <td>1/6/15 10:00</td>\n",
              "      <td>1/6/15 23:59</td>\n",
              "      <td>NaN</td>\n",
              "      <td>potus</td>\n",
              "      <td>west wing</td>\n",
              "      <td>military honor guard</td>\n",
              "    </tr>\n",
              "    <tr>\n",
              "      <th>96</th>\n",
              "      <td>George W. Romine</td>\n",
              "      <td>2015-01-06T00:00:00</td>\n",
              "      <td>1/6/15 10:00</td>\n",
              "      <td>1/6/15 23:59</td>\n",
              "      <td>NaN</td>\n",
              "      <td>potus</td>\n",
              "      <td>west wing</td>\n",
              "      <td>military honor guard</td>\n",
              "    </tr>\n",
              "    <tr>\n",
              "      <th>97</th>\n",
              "      <td>Terrance A. Thomas</td>\n",
              "      <td>2015-01-06T00:00:00</td>\n",
              "      <td>1/6/15 10:00</td>\n",
              "      <td>1/6/15 23:59</td>\n",
              "      <td>NaN</td>\n",
              "      <td>potus</td>\n",
              "      <td>west wing</td>\n",
              "      <td>military honor guard</td>\n",
              "    </tr>\n",
              "    <tr>\n",
              "      <th>98</th>\n",
              "      <td>Logan K. Stratton</td>\n",
              "      <td>2015-01-06T00:00:00</td>\n",
              "      <td>1/6/15 10:00</td>\n",
              "      <td>1/6/15 23:59</td>\n",
              "      <td>NaN</td>\n",
              "      <td>potus</td>\n",
              "      <td>west wing</td>\n",
              "      <td>military honor guard</td>\n",
              "    </tr>\n",
              "    <tr>\n",
              "      <th>99</th>\n",
              "      <td>Timothy W. Wimmer</td>\n",
              "      <td>2015-01-06T00:00:00</td>\n",
              "      <td>1/6/15 10:00</td>\n",
              "      <td>1/6/15 23:59</td>\n",
              "      <td>NaN</td>\n",
              "      <td>potus</td>\n",
              "      <td>west wing</td>\n",
              "      <td>military honor guard</td>\n",
              "    </tr>\n",
              "  </tbody>\n",
              "</table>\n",
              "<p>100 rows × 8 columns</p>\n",
              "</div>"
            ],
            "text/plain": [
              "                  name  ...                        description\n",
              "0    Joshua T. Blanton  ...  JointService Military Honor Guard\n",
              "1      Jack T. Gutting  ...  JointService Military Honor Guard\n",
              "2    Bradley T. Guiles  ...  JointService Military Honor Guard\n",
              "3       Loryn F. Grieb  ...  JointService Military Honor Guard\n",
              "4     Travis D. Gordon  ...  JointService Military Honor Guard\n",
              "..                 ...  ...                                ...\n",
              "95  David M. Lundquist  ...               military honor guard\n",
              "96    George W. Romine  ...               military honor guard\n",
              "97  Terrance A. Thomas  ...               military honor guard\n",
              "98   Logan K. Stratton  ...               military honor guard\n",
              "99   Timothy W. Wimmer  ...               military honor guard\n",
              "\n",
              "[100 rows x 8 columns]"
            ]
          },
          "metadata": {
            "tags": []
          },
          "execution_count": 2
        }
      ]
    },
    {
      "cell_type": "code",
      "metadata": {
        "id": "HN0KzF6arhZW",
        "colab_type": "code",
        "outputId": "525ee48e-8570-4e7c-a3f5-a6c3cf5690ea",
        "colab": {
          "base_uri": "https://localhost:8080/",
          "height": 68
        }
      },
      "source": [
        "wh_visit_2015.columns"
      ],
      "execution_count": 0,
      "outputs": [
        {
          "output_type": "execute_result",
          "data": {
            "text/plain": [
              "Index(['name', 'appt_made_date', 'appt_start_date', 'appt_end_date',\n",
              "       'visitee_namelast', 'visitee_namefirst', 'meeting_room', 'description'],\n",
              "      dtype='object')"
            ]
          },
          "metadata": {
            "tags": []
          },
          "execution_count": 37
        }
      ]
    },
    {
      "cell_type": "markdown",
      "metadata": {
        "id": "MQmgejJStg3k",
        "colab_type": "text"
      },
      "source": [
        "In this mission we'll learn techniques that will allow us to:\n",
        "\n",
        "- Calculate the month with the most visitors.\n",
        "- Calculate the most common time that visits occurred.\n",
        "- Calculate summary statistics on visit length and how far ahead visits are booked.\n",
        "- Produce neatly formatted summaries of daily visits."
      ]
    },
    {
      "cell_type": "code",
      "metadata": {
        "id": "VFCLG4PNtnjs",
        "colab_type": "code",
        "colab": {}
      },
      "source": [
        "def open_dataset(file_name):\n",
        "    opened_file = open(file_name)\n",
        "    from csv import reader\n",
        "    read_file = reader(opened_file)\n",
        "    data = list(read_file)\n",
        "    \n",
        "    return data\n",
        "\n"
      ],
      "execution_count": 0,
      "outputs": []
    },
    {
      "cell_type": "code",
      "metadata": {
        "id": "Q0PY56U0uhca",
        "colab_type": "code",
        "colab": {}
      },
      "source": [
        "potus = open_dataset(\"/content/drive/My Drive/data/potus_visitors_2015.csv\")"
      ],
      "execution_count": 0,
      "outputs": []
    },
    {
      "cell_type": "code",
      "metadata": {
        "id": "ySyHx0h3v494",
        "colab_type": "code",
        "colab": {}
      },
      "source": [
        "potus = potus[1:]"
      ],
      "execution_count": 0,
      "outputs": []
    },
    {
      "cell_type": "code",
      "metadata": {
        "id": "PBbR9lGQx_o0",
        "colab_type": "code",
        "colab": {}
      },
      "source": [
        "import datetime as dt"
      ],
      "execution_count": 0,
      "outputs": []
    },
    {
      "cell_type": "code",
      "metadata": {
        "id": "JdDxAoa1yDGn",
        "colab_type": "code",
        "outputId": "df705456-3582-4fe8-efaa-74bad2e4e41a",
        "colab": {
          "base_uri": "https://localhost:8080/",
          "height": 34
        }
      },
      "source": [
        "eg_1 = dt.datetime(2000, 1, 1)\n",
        "print(eg_1)"
      ],
      "execution_count": 0,
      "outputs": [
        {
          "output_type": "stream",
          "text": [
            "2000-01-01 00:00:00\n"
          ],
          "name": "stdout"
        }
      ]
    },
    {
      "cell_type": "code",
      "metadata": {
        "id": "7RzzpmIXy-eC",
        "colab_type": "code",
        "outputId": "f8387b22-0844-4839-b174-b4eef4197156",
        "colab": {
          "base_uri": "https://localhost:8080/",
          "height": 34
        }
      },
      "source": [
        "eg_2 = dt.datetime(1985, 3, 13, 21, 26, 2)\n",
        "print(eg_2)"
      ],
      "execution_count": 0,
      "outputs": [
        {
          "output_type": "stream",
          "text": [
            "1985-03-13 21:26:02\n"
          ],
          "name": "stdout"
        }
      ]
    },
    {
      "cell_type": "code",
      "metadata": {
        "id": "0GA_uZJdzTGd",
        "colab_type": "code",
        "outputId": "feeb88f1-1e21-48e6-ff23-2b02cfacc955",
        "colab": {
          "base_uri": "https://localhost:8080/",
          "height": 34
        }
      },
      "source": [
        "eg_3 = dt.datetime(1998, 7, 7, 8, 39)\n",
        "print(eg_3)"
      ],
      "execution_count": 0,
      "outputs": [
        {
          "output_type": "stream",
          "text": [
            "1998-07-07 08:39:00\n"
          ],
          "name": "stdout"
        }
      ]
    },
    {
      "cell_type": "markdown",
      "metadata": {
        "id": "Z5ay4fk4zqQ8",
        "colab_type": "text"
      },
      "source": [
        "**Instructions**\n",
        "\n",
        "Import the datetime class using the alias dt.\n",
        "1. Instantiate a datetime object representing midnight on June 16, 1911. Assign the object to the variable name ibm_founded.\n",
        "2. Instantiate a datetime object representing 8:17 p.m. on July 20, 1969. \n",
        "3. Assign the object to the variable name man_on_moon."
      ]
    },
    {
      "cell_type": "code",
      "metadata": {
        "id": "zIq1k0Baz_zi",
        "colab_type": "code",
        "outputId": "7aefaa92-6c1c-4c45-d698-398f888370a1",
        "colab": {
          "base_uri": "https://localhost:8080/",
          "height": 51
        }
      },
      "source": [
        "import datetime as dt\n",
        "ibm_founded = dt.datetime(1911, 6, 16)\n",
        "man_on_moon = dt.datetime(1969, 7, 20, 20, 17)\n",
        "print(ibm_founded)\n",
        "print(man_on_moon)"
      ],
      "execution_count": 0,
      "outputs": [
        {
          "output_type": "stream",
          "text": [
            "1911-06-16 00:00:00\n",
            "1969-07-20 20:17:00\n"
          ],
          "name": "stdout"
        }
      ]
    },
    {
      "cell_type": "code",
      "metadata": {
        "id": "NyGtTsuU3Khk",
        "colab_type": "code",
        "outputId": "f6105893-d9e3-4a20-e5bd-e33b2323dadd",
        "colab": {
          "base_uri": "https://localhost:8080/",
          "height": 34
        }
      },
      "source": [
        "print(potus[-1][2])"
      ],
      "execution_count": 0,
      "outputs": [
        {
          "output_type": "stream",
          "text": [
            "12/18/15 16:30\n"
          ],
          "name": "stdout"
        }
      ]
    },
    {
      "cell_type": "code",
      "metadata": {
        "id": "iDf5aMMW37bZ",
        "colab_type": "code",
        "outputId": "5e27c1f2-ed2b-49fe-b1e3-11d9ac857508",
        "colab": {
          "base_uri": "https://localhost:8080/",
          "height": 51
        }
      },
      "source": [
        "date_1_str = \"24/12/1984\"\n",
        "date_1_dt = dt.datetime.strptime(date_1_str, \"%d/%m/%Y\")\n",
        "print(type(date_1_dt))\n",
        "print(date_1_dt)"
      ],
      "execution_count": 0,
      "outputs": [
        {
          "output_type": "stream",
          "text": [
            "<class 'datetime.datetime'>\n",
            "1984-12-24 00:00:00\n"
          ],
          "name": "stdout"
        }
      ]
    },
    {
      "cell_type": "code",
      "metadata": {
        "id": "MVuN4cLK5UdB",
        "colab_type": "code",
        "outputId": "f7746ff8-ffde-4936-ec6f-1928566fff6c",
        "colab": {
          "base_uri": "https://localhost:8080/",
          "height": 34
        }
      },
      "source": [
        "date_2_str = \"12-24-1984\"\n",
        "date_2_dt = dt.datetime.strptime(date_2_str, \"%m-%d-%Y\")\n",
        "print(date_2_dt)"
      ],
      "execution_count": 0,
      "outputs": [
        {
          "output_type": "stream",
          "text": [
            "1984-12-24 00:00:00\n"
          ],
          "name": "stdout"
        }
      ]
    },
    {
      "cell_type": "code",
      "metadata": {
        "id": "zQVec7tu7VsZ",
        "colab_type": "code",
        "colab": {}
      },
      "source": [
        "date_format = '%m/%d/%y %H:%M'"
      ],
      "execution_count": 0,
      "outputs": []
    },
    {
      "cell_type": "code",
      "metadata": {
        "id": "_nNICXaR8Zke",
        "colab_type": "code",
        "colab": {}
      },
      "source": [
        "date_format = '%m/%d/%y %H:%M'\n",
        "for row in potus:\n",
        "  start_date = row[2]\n",
        "  start_date = str(start_date)\n",
        "  start_date = dt.datetime.strptime(start_date, date_format)\n",
        "  row[2] = start_date"
      ],
      "execution_count": 0,
      "outputs": []
    },
    {
      "cell_type": "code",
      "metadata": {
        "id": "hnldOtOP3FT0",
        "colab_type": "code",
        "outputId": "06e561cd-d8ec-43d3-c714-bc8818fbb997",
        "colab": {
          "base_uri": "https://localhost:8080/",
          "height": 153
        }
      },
      "source": [
        "potus[1]"
      ],
      "execution_count": 0,
      "outputs": [
        {
          "output_type": "execute_result",
          "data": {
            "text/plain": [
              "['Jack T. Gutting',\n",
              " '2014-12-18T00:00:00',\n",
              " datetime.datetime(2015, 1, 6, 9, 30),\n",
              " '1/6/15 23:59',\n",
              " '',\n",
              " 'potus',\n",
              " 'west wing',\n",
              " 'JointService Military Honor Guard']"
            ]
          },
          "metadata": {
            "tags": []
          },
          "execution_count": 13
        }
      ]
    },
    {
      "cell_type": "code",
      "metadata": {
        "id": "z7cI_yCnQV6s",
        "colab_type": "code",
        "colab": {}
      },
      "source": [
        "visitors_per_month = {}\n",
        "\n",
        "for row in potus:\n",
        "    month_dt = row[2]\n",
        "    month_str = month_dt.strftime(\"%B, %Y\")\n",
        "    if month_str not in visitors_per_month:\n",
        "        visitors_per_month[month_str] = 1\n",
        "    else:\n",
        "        visitors_per_month[month_str] += 1"
      ],
      "execution_count": 0,
      "outputs": []
    },
    {
      "cell_type": "code",
      "metadata": {
        "id": "xY4B9bO5BTJ6",
        "colab_type": "code",
        "outputId": "3700eccf-0052-4684-d707-f5648cffa232",
        "colab": {
          "base_uri": "https://localhost:8080/",
          "height": 221
        }
      },
      "source": [
        "visitors_per_month"
      ],
      "execution_count": 0,
      "outputs": [
        {
          "output_type": "execute_result",
          "data": {
            "text/plain": [
              "{'April, 2015': 4996,\n",
              " 'August, 2015': 1350,\n",
              " 'December, 2015': 13029,\n",
              " 'February, 2015': 2165,\n",
              " 'January, 2015': 1248,\n",
              " 'July, 2015': 2930,\n",
              " 'June, 2015': 7743,\n",
              " 'March, 2015': 2262,\n",
              " 'May, 2015': 3013,\n",
              " 'November, 2015': 1133,\n",
              " 'October, 2015': 3669,\n",
              " 'September, 2015': 4416}"
            ]
          },
          "metadata": {
            "tags": []
          },
          "execution_count": 15
        }
      ]
    },
    {
      "cell_type": "markdown",
      "metadata": {
        "id": "cIyZj2aR-PMV",
        "colab_type": "text"
      },
      "source": [
        "## Working with datetime `time` class\n"
      ]
    },
    {
      "cell_type": "code",
      "metadata": {
        "id": "f4rgLT3b3-wh",
        "colab_type": "code",
        "outputId": "63540964-79b2-462b-cd0e-388828d0225e",
        "colab": {
          "base_uri": "https://localhost:8080/",
          "height": 51
        }
      },
      "source": [
        "two_thirty = dt.time(14, 30)\n",
        "print(type(two_thirty))\n",
        "print(two_thirty)"
      ],
      "execution_count": 0,
      "outputs": [
        {
          "output_type": "stream",
          "text": [
            "<class 'datetime.time'>\n",
            "14:30:00\n"
          ],
          "name": "stdout"
        }
      ]
    },
    {
      "cell_type": "code",
      "metadata": {
        "id": "pz8zrv-VKsbd",
        "colab_type": "code",
        "outputId": "8baa0474-349d-4a0f-e716-e6c7810491dc",
        "colab": {
          "base_uri": "https://localhost:8080/",
          "height": 34
        }
      },
      "source": [
        "five_sec_after_8am = dt.time(8, 0, 5)\n",
        "print(five_sec_after_8am)"
      ],
      "execution_count": 0,
      "outputs": [
        {
          "output_type": "stream",
          "text": [
            "08:00:05\n"
          ],
          "name": "stdout"
        }
      ]
    },
    {
      "cell_type": "markdown",
      "metadata": {
        "id": "_bh_WYnHK_Wm",
        "colab_type": "text"
      },
      "source": [
        "### Create a `time` object from a `datetime.datetime.time()` object"
      ]
    },
    {
      "cell_type": "code",
      "metadata": {
        "id": "AwJfp7cMK28o",
        "colab_type": "code",
        "outputId": "d3c93c10-c939-48d1-dafe-6092b918383b",
        "colab": {
          "base_uri": "https://localhost:8080/",
          "height": 34
        }
      },
      "source": [
        "jfk_shot_dt = dt.datetime(1963, 11, 22, 12, 30)\n",
        "print(jfk_shot_dt)"
      ],
      "execution_count": 0,
      "outputs": [
        {
          "output_type": "stream",
          "text": [
            "1963-11-22 12:30:00\n"
          ],
          "name": "stdout"
        }
      ]
    },
    {
      "cell_type": "code",
      "metadata": {
        "id": "PDa3rIb_LuON",
        "colab_type": "code",
        "outputId": "c5722c57-2d2f-40ad-80c2-e0470a00356e",
        "colab": {
          "base_uri": "https://localhost:8080/",
          "height": 34
        }
      },
      "source": [
        "jfk_shot_t = jfk_shot_dt.time()\n",
        "print(jfk_shot_t)"
      ],
      "execution_count": 0,
      "outputs": [
        {
          "output_type": "stream",
          "text": [
            "12:30:00\n"
          ],
          "name": "stdout"
        }
      ]
    }
  ]
}